{
 "cells": [
  {
   "cell_type": "code",
   "execution_count": 1,
   "id": "7d59b1b1-6622-483a-a01f-82c40747780c",
   "metadata": {},
   "outputs": [],
   "source": [
    "# 1 ans :-"
   ]
  },
  {
   "cell_type": "code",
   "execution_count": 2,
   "id": "24100852-dc8e-4fbf-8fd8-4ab39256bb5b",
   "metadata": {},
   "outputs": [
    {
     "data": {
      "text/plain": [
       "'class and object : -  a class is blueprint template that defines the attributes and behaviors of object of that class '"
      ]
     },
     "execution_count": 2,
     "metadata": {},
     "output_type": "execute_result"
    }
   ],
   "source": [
    "\"\"\"class and object : -  a class is blueprint template that defines the attributes and behaviors of object of that class \"\"\"\n"
   ]
  },
  {
   "cell_type": "code",
   "execution_count": 3,
   "id": "75eebbc4-4770-4b1c-befc-ccec85163ba8",
   "metadata": {},
   "outputs": [],
   "source": [
    "# example"
   ]
  },
  {
   "cell_type": "code",
   "execution_count": 4,
   "id": "e2540372-f228-4c92-a8f5-fb199d0dc77e",
   "metadata": {},
   "outputs": [],
   "source": [
    "class Person:\n",
    "    def __init__(self, name, age, gender, address):\n",
    "        self.name = name\n",
    "        self.age = age\n",
    "        self.gender = gender\n",
    "        self.address = address\n",
    "\n",
    "    def speak(self, message):\n",
    "        print(self.name, \"says:\", message)\n",
    "\n",
    "    def walk(self):\n",
    "        print(self.name, \"is walking\")\n",
    "\n",
    "    def eat(self, food):\n",
    "        print(self.name, \"is eating\", food)\n"
   ]
  },
  {
   "cell_type": "code",
   "execution_count": 6,
   "id": "01a007e3-4d05-4a6b-81a3-553f52200a1b",
   "metadata": {},
   "outputs": [],
   "source": [
    "durgesh= Person(\"durgesh\", 20, \"male\", \"Gopalganj, Bihar\")"
   ]
  },
  {
   "cell_type": "code",
   "execution_count": 8,
   "id": "81343c4a-7fe8-4a20-82f9-dfa76c87d575",
   "metadata": {},
   "outputs": [
    {
     "name": "stdout",
     "output_type": "stream",
     "text": [
      "durgesh\n",
      "durgesh says: Hello\n",
      "durgesh is walking\n",
      "durgesh is eating Dal Roti\n"
     ]
    }
   ],
   "source": [
    "print(durgesh.name)\n",
    "durgesh.speak(\"Hello\")\n",
    "durgesh.walk()\n",
    "durgesh.eat(\"Dal Roti\")"
   ]
  },
  {
   "cell_type": "code",
   "execution_count": 9,
   "id": "ee4f2d63-d2a4-4268-b526-4a0ff5873c6c",
   "metadata": {},
   "outputs": [],
   "source": [
    "# 2 ans :-"
   ]
  },
  {
   "cell_type": "code",
   "execution_count": 10,
   "id": "b55c9cd5-bf35-4dad-8ef8-d999cde657c2",
   "metadata": {},
   "outputs": [
    {
     "data": {
      "text/plain": [
       "'The four pillars of OOPs are: Encapsulation, Abstraction, Inheritance, and Polymorphism.'"
      ]
     },
     "execution_count": 10,
     "metadata": {},
     "output_type": "execute_result"
    }
   ],
   "source": [
    "\"\"\"The four pillars of OOPs are: Encapsulation, Abstraction, Inheritance, and Polymorphism.\"\"\""
   ]
  },
  {
   "cell_type": "code",
   "execution_count": 1,
   "id": "e5ce8270-a889-41ab-8db3-6dc2c5c77f20",
   "metadata": {},
   "outputs": [],
   "source": [
    "# 3ans :-"
   ]
  },
  {
   "cell_type": "code",
   "execution_count": 2,
   "id": "23fd1da6-3448-4bdf-99c9-745c04bf8e0e",
   "metadata": {},
   "outputs": [],
   "source": [
    "class Rectangle:\n",
    "    def __init__(self, width, height):\n",
    "        if width <= 0 or height <= 0:\n",
    "            raise ValueError(\"Width and height must be positive\")\n",
    "        self.width = width\n",
    "        self.height = height\n",
    "\n",
    "    def area(self):\n",
    "        return self.width * self.height\n",
    "\n",
    "    def perimeter(self):\n",
    "        return 2 * (self.width + self.height)\n"
   ]
  },
  {
   "cell_type": "code",
   "execution_count": 3,
   "id": "43c7ddee-2662-4e1f-8479-5230d84f0f7e",
   "metadata": {},
   "outputs": [],
   "source": [
    "rect = Rectangle(5,10)"
   ]
  },
  {
   "cell_type": "code",
   "execution_count": 4,
   "id": "2e73806c-769c-4c9c-9c9e-b394d0cda910",
   "metadata": {},
   "outputs": [
    {
     "name": "stdout",
     "output_type": "stream",
     "text": [
      "50\n",
      "30\n"
     ]
    }
   ],
   "source": [
    "print(rect.area())  \n",
    "print(rect.perimeter()) "
   ]
  },
  {
   "cell_type": "code",
   "execution_count": 5,
   "id": "11e7baf3-c132-474a-aa61-24e4265c3aed",
   "metadata": {},
   "outputs": [],
   "source": [
    "# 4 ans :-"
   ]
  },
  {
   "cell_type": "code",
   "execution_count": 6,
   "id": "771d10d5-5784-4114-bcc4-d4f893b4e085",
   "metadata": {},
   "outputs": [
    {
     "data": {
      "text/plain": [
       "' the self keyword is used in object-oriented programming to refer to the instance of a class that a method is being excuted on'"
      ]
     },
     "execution_count": 6,
     "metadata": {},
     "output_type": "execute_result"
    }
   ],
   "source": [
    "\"\"\" the self keyword is used in object-oriented programming to refer to the instance of a class that a method is being excuted on\"\"\""
   ]
  },
  {
   "cell_type": "code",
   "execution_count": 7,
   "id": "2165db26-d20f-44e9-8c49-47c8dfd0e9da",
   "metadata": {},
   "outputs": [],
   "source": [
    "# 5 ans :-"
   ]
  },
  {
   "cell_type": "code",
   "execution_count": 8,
   "id": "96d2887c-841f-49c9-a952-bfd1c7d439cd",
   "metadata": {},
   "outputs": [
    {
     "data": {
      "text/plain": [
       "'Inheritance is a mechanism in OOP that allows a new class to be based on an existing class, inheriting its attributes and behaviors, with examples including single, multiple, and multilevel inheritance'"
      ]
     },
     "execution_count": 8,
     "metadata": {},
     "output_type": "execute_result"
    }
   ],
   "source": [
    "\"\"\"Inheritance is a mechanism in OOP that allows a new class to be based on an existing class, inheriting its attributes and behaviors, with examples including single, multiple, and multilevel inheritance\"\"\""
   ]
  }
 ],
 "metadata": {
  "kernelspec": {
   "display_name": "Python 3 (ipykernel)",
   "language": "python",
   "name": "python3"
  },
  "language_info": {
   "codemirror_mode": {
    "name": "ipython",
    "version": 3
   },
   "file_extension": ".py",
   "mimetype": "text/x-python",
   "name": "python",
   "nbconvert_exporter": "python",
   "pygments_lexer": "ipython3",
   "version": "3.10.8"
  }
 },
 "nbformat": 4,
 "nbformat_minor": 5
}
